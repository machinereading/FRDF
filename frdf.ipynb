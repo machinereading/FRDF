{
 "cells": [
  {
   "cell_type": "code",
   "execution_count": 1,
   "metadata": {},
   "outputs": [],
   "source": [
    "import os\n",
    "import sys\n",
    "sys.path.append('../')"
   ]
  },
  {
   "cell_type": "code",
   "execution_count": 2,
   "metadata": {},
   "outputs": [],
   "source": [
    "def gen_mapping(mapping_file):\n",
    "    with open(mapping_file, 'r') as f:\n",
    "        next(f)\n",
    "        lines = f.readlines()\n",
    "    mappings = {}\n",
    "    for line in lines:\n",
    "        line = line.strip().split(',')\n",
    "        frame, fe, rel = line[0],line[1],line[2]\n",
    "        if frame not in mappings:\n",
    "            mapping = {}\n",
    "        else:\n",
    "            mapping = mappings[frame]\n",
    "        mapping[fe] = rel\n",
    "        mappings[frame] = mapping\n",
    "    return mappings\n",
    "\n",
    "def get_frame(frames):\n",
    "    frame = False\n",
    "    for f in frames:\n",
    "        if f != '_':\n",
    "            frame = f   \n",
    "    return frame"
   ]
  },
  {
   "cell_type": "code",
   "execution_count": 3,
   "metadata": {},
   "outputs": [],
   "source": [
    "class frame2RDF():\n",
    "    def __init__(self):\n",
    "        try:\n",
    "            this_dir = os.path.dirname(os.path.abspath( __file__ ))\n",
    "        except:\n",
    "            this_dir = '.'\n",
    "        mapping_file = this_dir+'/frame_dbo_mapping.csv'\n",
    "        self.mapping = gen_mapping(mapping_file)\n",
    "        \n",
    "    def fe2dbo(self, frame, fe):\n",
    "        rel = False\n",
    "        if frame in self.mapping:\n",
    "            fe2dbo = self.mapping[frame]\n",
    "            if fe in fe2dbo:\n",
    "                if fe2dbo[fe] == 'S':\n",
    "                    rel = fe2dbo[fe]                \n",
    "                elif 'dbo' in fe2dbo[fe]:\n",
    "                    rel = fe2dbo[fe]\n",
    "        if rel == False:\n",
    "            rel = 'frdf:'+frame+'-'+fe\n",
    "        return rel\n",
    "        \n",
    "    def frame2dbo(self, frame_conll):\n",
    "        triples = []\n",
    "        for anno in frame_conll:\n",
    "            tokens, lus, frames, args = anno[0],anno[1],anno[2],anno[3]\n",
    "            frame = get_frame(frames)\n",
    "            if frame:\n",
    "                s = False\n",
    "                pred_obj_tuples = []\n",
    "                for idx in range(len(args)):\n",
    "                    arg_tag = args[idx]\n",
    "                    arg_tokens = []\n",
    "                    if arg_tag.startswith('B'):\n",
    "                        fe_tag = arg_tag.split('-')[1]\n",
    "                        arg_tokens.append(tokens[idx])\n",
    "                        next_idx = idx + 1\n",
    "                        while next_idx < len(args) and args[next_idx] == 'I-'+fe_tag:\n",
    "                            arg_tokens.append(tokens[next_idx])\n",
    "                            next_idx +=1\n",
    "                        arg_text = ' '.join(arg_tokens)\n",
    "                        fe = fe_tag                        \n",
    "                        rel = frame2RDF.fe2dbo(self, frame, fe)\n",
    "                        \n",
    "                        if rel == 'S':\n",
    "                            s = arg_text\n",
    "                        else:\n",
    "                            p = rel\n",
    "                            o = arg_text\n",
    "                            pred_obj_tuples.append( (p,o) )\n",
    "                if s:\n",
    "                    for p, o in pred_obj_tuples:\n",
    "                        triple = (s, p, o)\n",
    "                        triples.append(triple)\n",
    "        return triples"
   ]
  }
 ],
 "metadata": {
  "kernelspec": {
   "display_name": "Python 3",
   "language": "python",
   "name": "python3"
  },
  "language_info": {
   "codemirror_mode": {
    "name": "ipython",
    "version": 3
   },
   "file_extension": ".py",
   "mimetype": "text/x-python",
   "name": "python",
   "nbconvert_exporter": "python",
   "pygments_lexer": "ipython3",
   "version": "3.6.5"
  }
 },
 "nbformat": 4,
 "nbformat_minor": 2
}
