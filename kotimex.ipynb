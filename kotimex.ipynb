{
 "cells": [
  {
   "cell_type": "code",
   "execution_count": 2,
   "metadata": {},
   "outputs": [],
   "source": [
    "import json\n",
    "import sys\n",
    "sys.path.append('../')\n",
    "\n",
    "import re"
   ]
  },
  {
   "cell_type": "code",
   "execution_count": 19,
   "metadata": {},
   "outputs": [],
   "source": [
    "text = '2019년 4월 24일에'"
   ]
  },
  {
   "cell_type": "code",
   "execution_count": 33,
   "metadata": {},
   "outputs": [],
   "source": [
    "def basic_time_normalizer(text):\n",
    "    # find year\n",
    "    regex = re.compile(\"(?P<YEAR>\\d+)년\")\n",
    "    year = regex.search(text).group('YEAR')\n",
    "    if not year:\n",
    "        year = '0000'\n",
    "    \n",
    "    # find month\n",
    "    regex = re.compile(\"(?P<MONTH>\\d+)월\")\n",
    "    month = regex.search(text).group('MONTH')\n",
    "    if not month:\n",
    "        month = '0'\n",
    "    \n",
    "    # find day\n",
    "    regex = re.compile(\"(?P<DAY>\\d+)일\")\n",
    "    day = regex.search(text).group('DAY')\n",
    "    if not day:\n",
    "        day = '0'\n",
    "    \n",
    "    ymd = year+month+day\n",
    "    \n",
    "    if ymd.isdigit():\n",
    "        time_rep = year+'-'+month+'-'+day\n",
    "    else:\n",
    "        time_rep = text    \n",
    "    return time_rep    "
   ]
  },
  {
   "cell_type": "code",
   "execution_count": 35,
   "metadata": {},
   "outputs": [
    {
     "name": "stdout",
     "output_type": "stream",
     "text": [
      "\"2019-4-24\"^^<http://www.w3.org/2001/XMLSchema#date>\n"
     ]
    }
   ],
   "source": [
    "def time2xsd(text):\n",
    "    time_rep = basic_time_normalizer(text)\n",
    "    xsd = '\\\"'+time_rep+'\\\"'+'^^<http://www.w3.org/2001/XMLSchema#date>'\n",
    "    return xsd"
   ]
  }
 ],
 "metadata": {
  "kernelspec": {
   "display_name": "Python 3",
   "language": "python",
   "name": "python3"
  },
  "language_info": {
   "codemirror_mode": {
    "name": "ipython",
    "version": 3
   },
   "file_extension": ".py",
   "mimetype": "text/x-python",
   "name": "python",
   "nbconvert_exporter": "python",
   "pygments_lexer": "ipython3",
   "version": "3.6.5"
  }
 },
 "nbformat": 4,
 "nbformat_minor": 2
}
