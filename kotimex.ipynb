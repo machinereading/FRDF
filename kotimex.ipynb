{
 "cells": [
  {
   "cell_type": "code",
   "execution_count": 2,
   "metadata": {},
   "outputs": [],
   "source": [
    "import json\n",
    "import sys\n",
    "sys.path.append('../')\n",
    "\n",
    "import re"
   ]
  },
  {
   "cell_type": "code",
   "execution_count": 58,
   "metadata": {},
   "outputs": [],
   "source": [
    "def basic_time_normalizer(text):\n",
    "    check_year, check_month, check_day = False, False, False\n",
    "    # find year\n",
    "    regex = re.compile(\"(?P<YEAR>\\d+)년\")\n",
    "    y_search = regex.search(text)\n",
    "    if y_search:\n",
    "        year = y_search.group('YEAR')\n",
    "        check_year = True\n",
    "    else:\n",
    "        year = '0000'\n",
    "    \n",
    "    # find month\n",
    "    regex = re.compile(\"(?P<MONTH>\\d+)월\")\n",
    "    m_search = regex.search(text)\n",
    "    if m_search:\n",
    "        month = m_search.group('MONTH')\n",
    "        check_month = True\n",
    "    else:\n",
    "        month = '0'\n",
    "    \n",
    "    # find day\n",
    "    regex = re.compile(\"(?P<DAY>\\d+)일\")\n",
    "    d_search = regex.search(text)\n",
    "    if d_search:\n",
    "        day = d_search.group('DAY')\n",
    "        check_day = True\n",
    "    else:\n",
    "        day = '0'\n",
    "    \n",
    "    if check_year or check_month or check_day:\n",
    "        if len(year) == 4 and len(month) <= 2 and len(day) <=2:\n",
    "            time_rep = year+'-'+month+'-'+day\n",
    "    else:\n",
    "        time_rep = text    \n",
    "    return time_rep    "
   ]
  },
  {
   "cell_type": "code",
   "execution_count": 59,
   "metadata": {},
   "outputs": [],
   "source": [
    "def time2xsd(text):\n",
    "    time_rep = basic_time_normalizer(text)\n",
    "    regex = re.compile(r'\\d+-\\d+-\\d+')\n",
    "    \n",
    "    if regex.search(time_rep):\n",
    "        xsd = '\\\"'+time_rep+'\\\"'+'^^xsd:date'\n",
    "    else:\n",
    "        xsd = '\\\"'+time_rep+'\\\"'+'^^xsd:string'\n",
    "    return xsd"
   ]
  },
  {
   "cell_type": "code",
   "execution_count": 62,
   "metadata": {},
   "outputs": [
    {
     "name": "stdout",
     "output_type": "stream",
     "text": [
      "\"2019-4-24\"^^<http://www.w3.org/2001/XMLSchema#date>\n"
     ]
    }
   ],
   "source": [
    "# xsd = time2xsd(text)\n",
    "# print(xsd)"
   ]
  }
 ],
 "metadata": {
  "kernelspec": {
   "display_name": "Python 3",
   "language": "python",
   "name": "python3"
  },
  "language_info": {
   "codemirror_mode": {
    "name": "ipython",
    "version": 3
   },
   "file_extension": ".py",
   "mimetype": "text/x-python",
   "name": "python",
   "nbconvert_exporter": "python",
   "pygments_lexer": "ipython3",
   "version": "3.6.5"
  }
 },
 "nbformat": 4,
 "nbformat_minor": 2
}
